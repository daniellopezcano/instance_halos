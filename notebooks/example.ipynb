{
 "cells": [
  {
   "cell_type": "markdown",
   "id": "1fc48b07",
   "metadata": {},
   "source": [
    "# Imports and Setup"
   ]
  },
  {
   "cell_type": "code",
   "execution_count": 1,
   "id": "9e07a85b",
   "metadata": {},
   "outputs": [
    {
     "name": "stderr",
     "output_type": "stream",
     "text": [
      "2023-10-09 16:06:27.227270: I tensorflow/stream_executor/platform/default/dso_loader.cc:49] Successfully opened dynamic library libcudart.so.10.1\n"
     ]
    },
    {
     "name": "stdout",
     "output_type": "stream",
     "text": [
      "The autoreload extension is already loaded. To reload it, use:\n",
      "  %reload_ext autoreload\n",
      "Limit GPU memory :  9553.822096000002 MB /  47769.11048 MB\n"
     ]
    },
    {
     "name": "stderr",
     "output_type": "stream",
     "text": [
      "2023-10-09 16:06:29.181166: I tensorflow/compiler/jit/xla_cpu_device.cc:41] Not creating XLA devices, tf_xla_enable_xla_devices not set\n",
      "2023-10-09 16:06:29.186805: I tensorflow/stream_executor/platform/default/dso_loader.cc:49] Successfully opened dynamic library libcuda.so.1\n",
      "2023-10-09 16:06:29.198620: I tensorflow/core/common_runtime/gpu/gpu_device.cc:1720] Found device 0 with properties: \n",
      "pciBusID: 0000:d8:00.0 name: Quadro RTX 8000 computeCapability: 7.5\n",
      "coreClock: 1.62GHz coreCount: 72 deviceMemorySize: 44.49GiB deviceMemoryBandwidth: 581.23GiB/s\n",
      "2023-10-09 16:06:29.198667: I tensorflow/stream_executor/platform/default/dso_loader.cc:49] Successfully opened dynamic library libcudart.so.10.1\n",
      "2023-10-09 16:06:29.200696: I tensorflow/stream_executor/platform/default/dso_loader.cc:49] Successfully opened dynamic library libcublas.so.10\n",
      "2023-10-09 16:06:29.200774: I tensorflow/stream_executor/platform/default/dso_loader.cc:49] Successfully opened dynamic library libcublasLt.so.10\n",
      "2023-10-09 16:06:29.202952: I tensorflow/stream_executor/platform/default/dso_loader.cc:49] Successfully opened dynamic library libcufft.so.10\n",
      "2023-10-09 16:06:29.203249: I tensorflow/stream_executor/platform/default/dso_loader.cc:49] Successfully opened dynamic library libcurand.so.10\n",
      "2023-10-09 16:06:29.205254: I tensorflow/stream_executor/platform/default/dso_loader.cc:49] Successfully opened dynamic library libcusolver.so.10\n",
      "2023-10-09 16:06:29.206305: I tensorflow/stream_executor/platform/default/dso_loader.cc:49] Successfully opened dynamic library libcusparse.so.10\n",
      "2023-10-09 16:06:29.210476: I tensorflow/stream_executor/platform/default/dso_loader.cc:49] Successfully opened dynamic library libcudnn.so.7\n",
      "2023-10-09 16:06:29.214374: I tensorflow/core/common_runtime/gpu/gpu_device.cc:1862] Adding visible gpu devices: 0\n"
     ]
    }
   ],
   "source": [
    "%load_ext autoreload\n",
    "import os\n",
    "import numpy as np\n",
    "\n",
    "import instance_halos as ph\n",
    "\n",
    "import matplotlib as mpl\n",
    "from mpl_toolkits.axes_grid1 import make_axes_locatable\n",
    "from mpl_toolkits.axes_grid1.inset_locator import inset_axes\n",
    "%matplotlib inline\n",
    "# %matplotlib notebook\n",
    "%load_ext autoreload\n",
    "mpl.pyplot.style.use('default')\n",
    "mpl.pyplot.close('all')\n",
    "\n",
    "import logging\n",
    "logging.getLogger().setLevel(logging.INFO) # uncomment for some timing output\n",
    "# logging.getLogger().setLevel(logging.DEBUG) # uncomment for a lot of output\n",
    "\n",
    "ph.predictions.limit_tensorflow_GPU_memory(GPU_percent_mem_use=0.2)"
   ]
  },
  {
   "cell_type": "markdown",
   "id": "775a340f",
   "metadata": {},
   "source": [
    "# Load data"
   ]
  },
  {
   "cell_type": "code",
   "execution_count": 26,
   "id": "6997e7bf",
   "metadata": {},
   "outputs": [
    {
     "ename": "OSError",
     "evalue": "Failed to interpret file '/lscratch/dlopez/Projects/instance_halos/instance_halos_data/Planck13_N256_L50.0_output_seed1609/linear_density_field.npy' as a pickle",
     "output_type": "error",
     "traceback": [
      "\u001b[0;31m---------------------------------------------------------------------------\u001b[0m",
      "\u001b[0;31mUnpicklingError\u001b[0m                           Traceback (most recent call last)",
      "File \u001b[0;32m/lscratch/dlopez/programs/miniconda_20221210/miniconda3/envs/VE_IHs/lib/python3.8/site-packages/numpy/lib/npyio.py:447\u001b[0m, in \u001b[0;36mload\u001b[0;34m(file, mmap_mode, allow_pickle, fix_imports, encoding)\u001b[0m\n\u001b[1;32m    446\u001b[0m \u001b[38;5;28;01mtry\u001b[39;00m:\n\u001b[0;32m--> 447\u001b[0m     \u001b[38;5;28;01mreturn\u001b[39;00m \u001b[43mpickle\u001b[49m\u001b[38;5;241;43m.\u001b[39;49m\u001b[43mload\u001b[49m\u001b[43m(\u001b[49m\u001b[43mfid\u001b[49m\u001b[43m,\u001b[49m\u001b[43m \u001b[49m\u001b[38;5;241;43m*\u001b[39;49m\u001b[38;5;241;43m*\u001b[39;49m\u001b[43mpickle_kwargs\u001b[49m\u001b[43m)\u001b[49m\n\u001b[1;32m    448\u001b[0m \u001b[38;5;28;01mexcept\u001b[39;00m \u001b[38;5;167;01mException\u001b[39;00m:\n",
      "\u001b[0;31mUnpicklingError\u001b[0m: invalid load key, 'v'.",
      "\nDuring handling of the above exception, another exception occurred:\n",
      "\u001b[0;31mOSError\u001b[0m                                   Traceback (most recent call last)",
      "Cell \u001b[0;32mIn[26], line 5\u001b[0m\n\u001b[1;32m      1\u001b[0m data_path \u001b[38;5;241m=\u001b[39m os\u001b[38;5;241m.\u001b[39mpath\u001b[38;5;241m.\u001b[39mjoin(os\u001b[38;5;241m.\u001b[39mpath\u001b[38;5;241m.\u001b[39mabspath(os\u001b[38;5;241m.\u001b[39mpath\u001b[38;5;241m.\u001b[39mjoin(ph\u001b[38;5;241m.\u001b[39m__path__[\u001b[38;5;241m0\u001b[39m], os\u001b[38;5;241m.\u001b[39mpardir)), \u001b[38;5;124m'\u001b[39m\u001b[38;5;124minstance_halos_data\u001b[39m\u001b[38;5;124m'\u001b[39m)\n\u001b[1;32m      3\u001b[0m simulation_name \u001b[38;5;241m=\u001b[39m \u001b[38;5;124m\"\u001b[39m\u001b[38;5;124mPlanck13_N256_L50.0_output_seed1609\u001b[39m\u001b[38;5;124m\"\u001b[39m\n\u001b[0;32m----> 5\u001b[0m delta \u001b[38;5;241m=\u001b[39m \u001b[43mnp\u001b[49m\u001b[38;5;241;43m.\u001b[39;49m\u001b[43mload\u001b[49m\u001b[43m(\u001b[49m\u001b[43mos\u001b[49m\u001b[38;5;241;43m.\u001b[39;49m\u001b[43mpath\u001b[49m\u001b[38;5;241;43m.\u001b[39;49m\u001b[43mjoin\u001b[49m\u001b[43m(\u001b[49m\u001b[43mdata_path\u001b[49m\u001b[43m,\u001b[49m\u001b[43m \u001b[49m\u001b[43msimulation_name\u001b[49m\u001b[43m,\u001b[49m\u001b[43m \u001b[49m\u001b[38;5;124;43m\"\u001b[39;49m\u001b[38;5;124;43mlinear_density_field.npy\u001b[39;49m\u001b[38;5;124;43m\"\u001b[39;49m\u001b[43m)\u001b[49m\u001b[43m,\u001b[49m\u001b[43m \u001b[49m\u001b[43mallow_pickle\u001b[49m\u001b[38;5;241;43m=\u001b[39;49m\u001b[38;5;28;43;01mTrue\u001b[39;49;00m\u001b[43m)\u001b[49m\n\u001b[1;32m      6\u001b[0m potential \u001b[38;5;241m=\u001b[39m np\u001b[38;5;241m.\u001b[39mload(os\u001b[38;5;241m.\u001b[39mpath\u001b[38;5;241m.\u001b[39mjoin(data_path, simulation_name, \u001b[38;5;124m\"\u001b[39m\u001b[38;5;124mlinear_potential.npy\u001b[39m\u001b[38;5;124m\"\u001b[39m))\n\u001b[1;32m      7\u001b[0m truth \u001b[38;5;241m=\u001b[39m np\u001b[38;5;241m.\u001b[39mload(os\u001b[38;5;241m.\u001b[39mpath\u001b[38;5;241m.\u001b[39mjoin(data_path, simulation_name, \u001b[38;5;124m\"\u001b[39m\u001b[38;5;124mFoF_halos_cut_155.npy\u001b[39m\u001b[38;5;124m\"\u001b[39m))\n",
      "File \u001b[0;32m/lscratch/dlopez/programs/miniconda_20221210/miniconda3/envs/VE_IHs/lib/python3.8/site-packages/numpy/lib/npyio.py:449\u001b[0m, in \u001b[0;36mload\u001b[0;34m(file, mmap_mode, allow_pickle, fix_imports, encoding)\u001b[0m\n\u001b[1;32m    447\u001b[0m     \u001b[38;5;28;01mreturn\u001b[39;00m pickle\u001b[38;5;241m.\u001b[39mload(fid, \u001b[38;5;241m*\u001b[39m\u001b[38;5;241m*\u001b[39mpickle_kwargs)\n\u001b[1;32m    448\u001b[0m \u001b[38;5;28;01mexcept\u001b[39;00m \u001b[38;5;167;01mException\u001b[39;00m:\n\u001b[0;32m--> 449\u001b[0m     \u001b[38;5;28;01mraise\u001b[39;00m \u001b[38;5;167;01mIOError\u001b[39;00m(\n\u001b[1;32m    450\u001b[0m         \u001b[38;5;124m\"\u001b[39m\u001b[38;5;124mFailed to interpret file \u001b[39m\u001b[38;5;132;01m%s\u001b[39;00m\u001b[38;5;124m as a pickle\u001b[39m\u001b[38;5;124m\"\u001b[39m \u001b[38;5;241m%\u001b[39m \u001b[38;5;28mrepr\u001b[39m(file))\n",
      "\u001b[0;31mOSError\u001b[0m: Failed to interpret file '/lscratch/dlopez/Projects/instance_halos/instance_halos_data/Planck13_N256_L50.0_output_seed1609/linear_density_field.npy' as a pickle"
     ]
    }
   ],
   "source": [
    "data_path = os.path.join(os.path.abspath(os.path.join(ph.__path__[0], os.pardir)), 'instance_halos_data')\n",
    "\n",
    "simulation_name = \"Planck13_N256_L50.0_output_seed1609\"\n",
    "\n",
    "delta = np.load(os.path.join(data_path, simulation_name, \"linear_density_field.npy\"), allow_pickle=True)\n",
    "potential = np.load(os.path.join(data_path, simulation_name, \"linear_potential.npy\"))\n",
    "truth = np.load(os.path.join(data_path, simulation_name, \"FoF_halos_cut_155.npy\"))"
   ]
  },
  {
   "cell_type": "markdown",
   "id": "2fa6e4b1",
   "metadata": {},
   "source": [
    "### visualize data"
   ]
  },
  {
   "cell_type": "code",
   "execution_count": 24,
   "id": "8ceaf653",
   "metadata": {
    "scrolled": false
   },
   "outputs": [
    {
     "ename": "TypeError",
     "evalue": "Invalid shape () for image data",
     "output_type": "error",
     "traceback": [
      "\u001b[0;31m---------------------------------------------------------------------------\u001b[0m",
      "\u001b[0;31mTypeError\u001b[0m                                 Traceback (most recent call last)",
      "Cell \u001b[0;32mIn[24], line 1\u001b[0m\n\u001b[0;32m----> 1\u001b[0m fig \u001b[38;5;241m=\u001b[39m \u001b[43mph\u001b[49m\u001b[38;5;241;43m.\u001b[39;49m\u001b[43mutils\u001b[49m\u001b[38;5;241;43m.\u001b[39;49m\u001b[43mplot_loaded_fields\u001b[49m\u001b[43m(\u001b[49m\u001b[43mdelta\u001b[49m\u001b[43m,\u001b[49m\u001b[43m \u001b[49m\u001b[43mpotential\u001b[49m\u001b[43m,\u001b[49m\u001b[43m \u001b[49m\u001b[43mtruth\u001b[49m\u001b[43m)\u001b[49m\n",
      "File \u001b[0;32m/lscratch/dlopez/Projects/instance_halos/instance_halos/utils.py:153\u001b[0m, in \u001b[0;36mplot_loaded_fields\u001b[0;34m(delta, potential, truth, list_ii_slices, size_plot, fontsize, fontsize1, cbar_width, cbar_height, spacing)\u001b[0m\n\u001b[1;32m    151\u001b[0m ax_delta \u001b[38;5;241m=\u001b[39m fig\u001b[38;5;241m.\u001b[39madd_subplot(gs[ii, \u001b[38;5;241m0\u001b[39m]) \u001b[38;5;66;03m# ax for delta\u001b[39;00m\n\u001b[1;32m    152\u001b[0m tmp_imshow \u001b[38;5;241m=\u001b[39m delta[ii_slice]\n\u001b[0;32m--> 153\u001b[0m cb_delta \u001b[38;5;241m=\u001b[39m \u001b[43max_delta\u001b[49m\u001b[38;5;241;43m.\u001b[39;49m\u001b[43mimshow\u001b[49m\u001b[43m(\u001b[49m\u001b[43mtmp_imshow\u001b[49m\u001b[43m,\u001b[49m\u001b[43m \u001b[49m\u001b[43mcmap\u001b[49m\u001b[38;5;241;43m=\u001b[39;49m\u001b[38;5;124;43m'\u001b[39;49m\u001b[38;5;124;43mjet\u001b[39;49m\u001b[38;5;124;43m'\u001b[39;49m\u001b[43m,\u001b[49m\u001b[43m \u001b[49m\u001b[43mvmin\u001b[49m\u001b[38;5;241;43m=\u001b[39;49m\u001b[43mvmin_mass_delta\u001b[49m\u001b[43m,\u001b[49m\u001b[43m \u001b[49m\u001b[43mvmax\u001b[49m\u001b[38;5;241;43m=\u001b[39;49m\u001b[43mvmax_mass_delta\u001b[49m\u001b[43m)\u001b[49m\n\u001b[1;32m    154\u001b[0m \u001b[38;5;28;01mfor\u001b[39;00m axis \u001b[38;5;129;01min\u001b[39;00m [\u001b[38;5;124m'\u001b[39m\u001b[38;5;124mtop\u001b[39m\u001b[38;5;124m'\u001b[39m,\u001b[38;5;124m'\u001b[39m\u001b[38;5;124mbottom\u001b[39m\u001b[38;5;124m'\u001b[39m,\u001b[38;5;124m'\u001b[39m\u001b[38;5;124mleft\u001b[39m\u001b[38;5;124m'\u001b[39m,\u001b[38;5;124m'\u001b[39m\u001b[38;5;124mright\u001b[39m\u001b[38;5;124m'\u001b[39m]:\n\u001b[1;32m    155\u001b[0m     ax_delta\u001b[38;5;241m.\u001b[39mspines[axis]\u001b[38;5;241m.\u001b[39mset_linewidth(\u001b[38;5;241m4\u001b[39m)\n",
      "File \u001b[0;32m/lscratch/dlopez/programs/miniconda_20221210/miniconda3/envs/VE_IHs/lib/python3.8/site-packages/matplotlib/_api/deprecation.py:454\u001b[0m, in \u001b[0;36mmake_keyword_only.<locals>.wrapper\u001b[0;34m(*args, **kwargs)\u001b[0m\n\u001b[1;32m    448\u001b[0m \u001b[38;5;28;01mif\u001b[39;00m \u001b[38;5;28mlen\u001b[39m(args) \u001b[38;5;241m>\u001b[39m name_idx:\n\u001b[1;32m    449\u001b[0m     warn_deprecated(\n\u001b[1;32m    450\u001b[0m         since, message\u001b[38;5;241m=\u001b[39m\u001b[38;5;124m\"\u001b[39m\u001b[38;5;124mPassing the \u001b[39m\u001b[38;5;132;01m%(name)s\u001b[39;00m\u001b[38;5;124m \u001b[39m\u001b[38;5;132;01m%(obj_type)s\u001b[39;00m\u001b[38;5;124m \u001b[39m\u001b[38;5;124m\"\u001b[39m\n\u001b[1;32m    451\u001b[0m         \u001b[38;5;124m\"\u001b[39m\u001b[38;5;124mpositionally is deprecated since Matplotlib \u001b[39m\u001b[38;5;132;01m%(since)s\u001b[39;00m\u001b[38;5;124m; the \u001b[39m\u001b[38;5;124m\"\u001b[39m\n\u001b[1;32m    452\u001b[0m         \u001b[38;5;124m\"\u001b[39m\u001b[38;5;124mparameter will become keyword-only \u001b[39m\u001b[38;5;132;01m%(removal)s\u001b[39;00m\u001b[38;5;124m.\u001b[39m\u001b[38;5;124m\"\u001b[39m,\n\u001b[1;32m    453\u001b[0m         name\u001b[38;5;241m=\u001b[39mname, obj_type\u001b[38;5;241m=\u001b[39m\u001b[38;5;124mf\u001b[39m\u001b[38;5;124m\"\u001b[39m\u001b[38;5;124mparameter of \u001b[39m\u001b[38;5;132;01m{\u001b[39;00mfunc\u001b[38;5;241m.\u001b[39m\u001b[38;5;18m__name__\u001b[39m\u001b[38;5;132;01m}\u001b[39;00m\u001b[38;5;124m()\u001b[39m\u001b[38;5;124m\"\u001b[39m)\n\u001b[0;32m--> 454\u001b[0m \u001b[38;5;28;01mreturn\u001b[39;00m \u001b[43mfunc\u001b[49m\u001b[43m(\u001b[49m\u001b[38;5;241;43m*\u001b[39;49m\u001b[43margs\u001b[49m\u001b[43m,\u001b[49m\u001b[43m \u001b[49m\u001b[38;5;241;43m*\u001b[39;49m\u001b[38;5;241;43m*\u001b[39;49m\u001b[43mkwargs\u001b[49m\u001b[43m)\u001b[49m\n",
      "File \u001b[0;32m/lscratch/dlopez/programs/miniconda_20221210/miniconda3/envs/VE_IHs/lib/python3.8/site-packages/matplotlib/__init__.py:1423\u001b[0m, in \u001b[0;36m_preprocess_data.<locals>.inner\u001b[0;34m(ax, data, *args, **kwargs)\u001b[0m\n\u001b[1;32m   1420\u001b[0m \u001b[38;5;129m@functools\u001b[39m\u001b[38;5;241m.\u001b[39mwraps(func)\n\u001b[1;32m   1421\u001b[0m \u001b[38;5;28;01mdef\u001b[39;00m \u001b[38;5;21minner\u001b[39m(ax, \u001b[38;5;241m*\u001b[39margs, data\u001b[38;5;241m=\u001b[39m\u001b[38;5;28;01mNone\u001b[39;00m, \u001b[38;5;241m*\u001b[39m\u001b[38;5;241m*\u001b[39mkwargs):\n\u001b[1;32m   1422\u001b[0m     \u001b[38;5;28;01mif\u001b[39;00m data \u001b[38;5;129;01mis\u001b[39;00m \u001b[38;5;28;01mNone\u001b[39;00m:\n\u001b[0;32m-> 1423\u001b[0m         \u001b[38;5;28;01mreturn\u001b[39;00m \u001b[43mfunc\u001b[49m\u001b[43m(\u001b[49m\u001b[43max\u001b[49m\u001b[43m,\u001b[49m\u001b[43m \u001b[49m\u001b[38;5;241;43m*\u001b[39;49m\u001b[38;5;28;43mmap\u001b[39;49m\u001b[43m(\u001b[49m\u001b[43msanitize_sequence\u001b[49m\u001b[43m,\u001b[49m\u001b[43m \u001b[49m\u001b[43margs\u001b[49m\u001b[43m)\u001b[49m\u001b[43m,\u001b[49m\u001b[43m \u001b[49m\u001b[38;5;241;43m*\u001b[39;49m\u001b[38;5;241;43m*\u001b[39;49m\u001b[43mkwargs\u001b[49m\u001b[43m)\u001b[49m\n\u001b[1;32m   1425\u001b[0m     bound \u001b[38;5;241m=\u001b[39m new_sig\u001b[38;5;241m.\u001b[39mbind(ax, \u001b[38;5;241m*\u001b[39margs, \u001b[38;5;241m*\u001b[39m\u001b[38;5;241m*\u001b[39mkwargs)\n\u001b[1;32m   1426\u001b[0m     auto_label \u001b[38;5;241m=\u001b[39m (bound\u001b[38;5;241m.\u001b[39marguments\u001b[38;5;241m.\u001b[39mget(label_namer)\n\u001b[1;32m   1427\u001b[0m                   \u001b[38;5;129;01mor\u001b[39;00m bound\u001b[38;5;241m.\u001b[39mkwargs\u001b[38;5;241m.\u001b[39mget(label_namer))\n",
      "File \u001b[0;32m/lscratch/dlopez/programs/miniconda_20221210/miniconda3/envs/VE_IHs/lib/python3.8/site-packages/matplotlib/axes/_axes.py:5604\u001b[0m, in \u001b[0;36mAxes.imshow\u001b[0;34m(self, X, cmap, norm, aspect, interpolation, alpha, vmin, vmax, origin, extent, interpolation_stage, filternorm, filterrad, resample, url, **kwargs)\u001b[0m\n\u001b[1;32m   5596\u001b[0m \u001b[38;5;28mself\u001b[39m\u001b[38;5;241m.\u001b[39mset_aspect(aspect)\n\u001b[1;32m   5597\u001b[0m im \u001b[38;5;241m=\u001b[39m mimage\u001b[38;5;241m.\u001b[39mAxesImage(\u001b[38;5;28mself\u001b[39m, cmap\u001b[38;5;241m=\u001b[39mcmap, norm\u001b[38;5;241m=\u001b[39mnorm,\n\u001b[1;32m   5598\u001b[0m                       interpolation\u001b[38;5;241m=\u001b[39minterpolation, origin\u001b[38;5;241m=\u001b[39morigin,\n\u001b[1;32m   5599\u001b[0m                       extent\u001b[38;5;241m=\u001b[39mextent, filternorm\u001b[38;5;241m=\u001b[39mfilternorm,\n\u001b[1;32m   5600\u001b[0m                       filterrad\u001b[38;5;241m=\u001b[39mfilterrad, resample\u001b[38;5;241m=\u001b[39mresample,\n\u001b[1;32m   5601\u001b[0m                       interpolation_stage\u001b[38;5;241m=\u001b[39minterpolation_stage,\n\u001b[1;32m   5602\u001b[0m                       \u001b[38;5;241m*\u001b[39m\u001b[38;5;241m*\u001b[39mkwargs)\n\u001b[0;32m-> 5604\u001b[0m \u001b[43mim\u001b[49m\u001b[38;5;241;43m.\u001b[39;49m\u001b[43mset_data\u001b[49m\u001b[43m(\u001b[49m\u001b[43mX\u001b[49m\u001b[43m)\u001b[49m\n\u001b[1;32m   5605\u001b[0m im\u001b[38;5;241m.\u001b[39mset_alpha(alpha)\n\u001b[1;32m   5606\u001b[0m \u001b[38;5;28;01mif\u001b[39;00m im\u001b[38;5;241m.\u001b[39mget_clip_path() \u001b[38;5;129;01mis\u001b[39;00m \u001b[38;5;28;01mNone\u001b[39;00m:\n\u001b[1;32m   5607\u001b[0m     \u001b[38;5;66;03m# image does not already have clipping set, clip to axes patch\u001b[39;00m\n",
      "File \u001b[0;32m/lscratch/dlopez/programs/miniconda_20221210/miniconda3/envs/VE_IHs/lib/python3.8/site-packages/matplotlib/image.py:710\u001b[0m, in \u001b[0;36m_ImageBase.set_data\u001b[0;34m(self, A)\u001b[0m\n\u001b[1;32m    706\u001b[0m     \u001b[38;5;28mself\u001b[39m\u001b[38;5;241m.\u001b[39m_A \u001b[38;5;241m=\u001b[39m \u001b[38;5;28mself\u001b[39m\u001b[38;5;241m.\u001b[39m_A[:, :, \u001b[38;5;241m0\u001b[39m]\n\u001b[1;32m    708\u001b[0m \u001b[38;5;28;01mif\u001b[39;00m \u001b[38;5;129;01mnot\u001b[39;00m (\u001b[38;5;28mself\u001b[39m\u001b[38;5;241m.\u001b[39m_A\u001b[38;5;241m.\u001b[39mndim \u001b[38;5;241m==\u001b[39m \u001b[38;5;241m2\u001b[39m\n\u001b[1;32m    709\u001b[0m         \u001b[38;5;129;01mor\u001b[39;00m \u001b[38;5;28mself\u001b[39m\u001b[38;5;241m.\u001b[39m_A\u001b[38;5;241m.\u001b[39mndim \u001b[38;5;241m==\u001b[39m \u001b[38;5;241m3\u001b[39m \u001b[38;5;129;01mand\u001b[39;00m \u001b[38;5;28mself\u001b[39m\u001b[38;5;241m.\u001b[39m_A\u001b[38;5;241m.\u001b[39mshape[\u001b[38;5;241m-\u001b[39m\u001b[38;5;241m1\u001b[39m] \u001b[38;5;129;01min\u001b[39;00m [\u001b[38;5;241m3\u001b[39m, \u001b[38;5;241m4\u001b[39m]):\n\u001b[0;32m--> 710\u001b[0m     \u001b[38;5;28;01mraise\u001b[39;00m \u001b[38;5;167;01mTypeError\u001b[39;00m(\u001b[38;5;124m\"\u001b[39m\u001b[38;5;124mInvalid shape \u001b[39m\u001b[38;5;132;01m{}\u001b[39;00m\u001b[38;5;124m for image data\u001b[39m\u001b[38;5;124m\"\u001b[39m\n\u001b[1;32m    711\u001b[0m                     \u001b[38;5;241m.\u001b[39mformat(\u001b[38;5;28mself\u001b[39m\u001b[38;5;241m.\u001b[39m_A\u001b[38;5;241m.\u001b[39mshape))\n\u001b[1;32m    713\u001b[0m \u001b[38;5;28;01mif\u001b[39;00m \u001b[38;5;28mself\u001b[39m\u001b[38;5;241m.\u001b[39m_A\u001b[38;5;241m.\u001b[39mndim \u001b[38;5;241m==\u001b[39m \u001b[38;5;241m3\u001b[39m:\n\u001b[1;32m    714\u001b[0m     \u001b[38;5;66;03m# If the input data has values outside the valid range (after\u001b[39;00m\n\u001b[1;32m    715\u001b[0m     \u001b[38;5;66;03m# normalisation), we issue a warning and then clip X to the bounds\u001b[39;00m\n\u001b[1;32m    716\u001b[0m     \u001b[38;5;66;03m# - otherwise casting wraps extreme values, hiding outliers and\u001b[39;00m\n\u001b[1;32m    717\u001b[0m     \u001b[38;5;66;03m# making reliable interpretation impossible.\u001b[39;00m\n\u001b[1;32m    718\u001b[0m     high \u001b[38;5;241m=\u001b[39m \u001b[38;5;241m255\u001b[39m \u001b[38;5;28;01mif\u001b[39;00m np\u001b[38;5;241m.\u001b[39missubdtype(\u001b[38;5;28mself\u001b[39m\u001b[38;5;241m.\u001b[39m_A\u001b[38;5;241m.\u001b[39mdtype, np\u001b[38;5;241m.\u001b[39minteger) \u001b[38;5;28;01melse\u001b[39;00m \u001b[38;5;241m1\u001b[39m\n",
      "\u001b[0;31mTypeError\u001b[0m: Invalid shape () for image data"
     ]
    },
    {
     "data": {
      "image/png": "[encoded data removed]",
      "text/plain": [
       "<Figure size 3600x2400 with 1 Axes>"
      ]
     },
     "metadata": {},
     "output_type": "display_data"
    }
   ],
   "source": [
    "fig = ph.utils.plot_loaded_fields(delta, potential, truth)"
   ]
  },
  {
   "cell_type": "markdown",
   "id": "c52e656b",
   "metadata": {},
   "source": [
    "# Panoptic predictions (Semantic & Instance)"
   ]
  },
  {
   "cell_type": "code",
   "execution_count": null,
   "id": "854b44b8",
   "metadata": {},
   "outputs": [],
   "source": [
    "semantic, instance = ph.predictions.panoptic_prediction(delta=delta, potential=potential)"
   ]
  },
  {
   "cell_type": "markdown",
   "id": "75c03485",
   "metadata": {},
   "source": [
    "# (Optional) Generate semantic and instance predictions separately"
   ]
  },
  {
   "cell_type": "markdown",
   "id": "55de4a6f",
   "metadata": {},
   "source": [
    "### Semantic predictions"
   ]
  },
  {
   "cell_type": "code",
   "execution_count": null,
   "id": "7782f430",
   "metadata": {},
   "outputs": [],
   "source": [
    "# semantic = ph.predictions.semantic_prediction(delta=delta, potential=potential)"
   ]
  },
  {
   "cell_type": "markdown",
   "id": "b65f71c8",
   "metadata": {},
   "source": [
    "### Instance predictions"
   ]
  },
  {
   "cell_type": "code",
   "execution_count": null,
   "id": "5ded567f",
   "metadata": {},
   "outputs": [],
   "source": [
    "# instance = ph.predictions.instance_prediction(semantic, delta=delta, potential=potential)"
   ]
  },
  {
   "cell_type": "markdown",
   "id": "521525f5",
   "metadata": {},
   "source": [
    "# Evaluate semantic model results"
   ]
  },
  {
   "cell_type": "markdown",
   "id": "9d250d2a",
   "metadata": {},
   "source": [
    "### Visualize semantic metrics as a function of the semantic threshold"
   ]
  },
  {
   "cell_type": "code",
   "execution_count": null,
   "id": "1396b67e",
   "metadata": {
    "scrolled": true
   },
   "outputs": [],
   "source": [
    "list_semantic_thresholds, semantic_metrics = ph.utils.semantic_predictions_metrics_vs_thresholds(\n",
    "    truth.flatten().astype(bool),\n",
    "    semantic.flatten()\n",
    ")"
   ]
  },
  {
   "cell_type": "code",
   "execution_count": null,
   "id": "699f6009",
   "metadata": {},
   "outputs": [],
   "source": [
    "fig, semantic_threshold = ph.utils.plot_semantic_metrics_vs_semantic_threshold(\n",
    "    list_semantic_thresholds,\n",
    "    semantic_metrics,\n",
    "    true_collapsed_fraction = np.sum(truth.flatten().astype(bool)) / len(truth.flatten().astype(bool))\n",
    ")"
   ]
  },
  {
   "cell_type": "markdown",
   "id": "dcf33869",
   "metadata": {},
   "source": [
    "### Visualize semantic predictions (map level)"
   ]
  },
  {
   "cell_type": "code",
   "execution_count": null,
   "id": "c812a239",
   "metadata": {
    "scrolled": false
   },
   "outputs": [],
   "source": [
    "fig = ph.utils.plot_semantic_map_predictions(\n",
    "    truth, semantic, semantic_threshold\n",
    ")"
   ]
  },
  {
   "cell_type": "markdown",
   "id": "981537e7",
   "metadata": {},
   "source": [
    "### Visualize evolution of TPR predicted by the semantic netwrok as a function of $\\log_{10}M_{\\mathrm{True}}\\; [\\mathrm{h}^{-1} M_\\odot]$"
   ]
  },
  {
   "cell_type": "code",
   "execution_count": null,
   "id": "272b91a2",
   "metadata": {},
   "outputs": [],
   "source": [
    "true_mass = ph.utils.compute_log10mass_map_from_label_map(truth)"
   ]
  },
  {
   "cell_type": "code",
   "execution_count": null,
   "id": "823d5388",
   "metadata": {},
   "outputs": [],
   "source": [
    "mass_bins, TPR_vs_true_mass = ph.utils.compute_TPR_vs_true_mass(true_mass, semantic, semantic_threshold)"
   ]
  },
  {
   "cell_type": "code",
   "execution_count": null,
   "id": "b72583b8",
   "metadata": {},
   "outputs": [],
   "source": [
    "fig = ph.utils.plot_TPR_vs_true_mass(mass_bins, TPR_vs_true_mass)"
   ]
  },
  {
   "cell_type": "markdown",
   "id": "b7a2296e",
   "metadata": {},
   "source": [
    "# Evaluate instance model results"
   ]
  },
  {
   "cell_type": "markdown",
   "id": "9143cef2",
   "metadata": {},
   "source": [
    "### Visualize instance predictions (mass map level)"
   ]
  },
  {
   "cell_type": "code",
   "execution_count": null,
   "id": "412f4b8b",
   "metadata": {},
   "outputs": [],
   "source": [
    "pred_mass = ph.utils.compute_log10mass_map_from_label_map(instance)"
   ]
  },
  {
   "cell_type": "code",
   "execution_count": null,
   "id": "9a16be2d",
   "metadata": {
    "scrolled": false
   },
   "outputs": [],
   "source": [
    "fig = ph.utils.plot_instance_mass_map_predictions(true_mass, pred_mass)"
   ]
  },
  {
   "cell_type": "markdown",
   "id": "aeb0957a",
   "metadata": {},
   "source": [
    "### Visualize violin plot"
   ]
  },
  {
   "cell_type": "code",
   "execution_count": null,
   "id": "d61ee55e",
   "metadata": {},
   "outputs": [],
   "source": [
    "true_array = true_mass.flatten()\n",
    "pred_array = pred_mass.flatten()\n",
    "\n",
    "fig = ph.utils.violin_plot(true_array, pred_array, N_bins=16)"
   ]
  },
  {
   "cell_type": "markdown",
   "id": "f6adb6ef",
   "metadata": {},
   "source": [
    "### Visualize HMF"
   ]
  },
  {
   "cell_type": "code",
   "execution_count": null,
   "id": "2d9bb407",
   "metadata": {},
   "outputs": [],
   "source": [
    "mp=6.350795014316703*1e8\n",
    "\n",
    "M_halos_true = np.bincount(truth.flatten()) * mp\n",
    "xx_true, yy_true = ph.utils.compute_HMF(M_halos_true, volume=50**3)\n",
    "\n",
    "M_halos_pred = np.bincount(instance.flatten()) * mp\n",
    "xx_pred, yy_pred = ph.utils.compute_HMF(M_halos_pred, volume=50**3)\n",
    "\n",
    "fig = ph.utils.plot_HMF(xx_true, yy_true, xx_pred, yy_pred)"
   ]
  },
  {
   "cell_type": "code",
   "execution_count": null,
   "id": "8795d191",
   "metadata": {},
   "outputs": [],
   "source": []
  }
 ],
 "metadata": {
  "kernelspec": {
   "display_name": "Python [conda env:VE_IHs]",
   "language": "python",
   "name": "conda-env-VE_IHs-py"
  },
  "language_info": {
   "codemirror_mode": {
    "name": "ipython",
    "version": 3
   },
   "file_extension": ".py",
   "mimetype": "text/x-python",
   "name": "python",
   "nbconvert_exporter": "python",
   "pygments_lexer": "ipython3",
   "version": "3.8.18"
  }
 },
 "nbformat": 4,
 "nbformat_minor": 5
}
