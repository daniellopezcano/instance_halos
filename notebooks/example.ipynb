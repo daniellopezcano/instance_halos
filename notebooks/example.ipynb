{
 "cells": [
  {
   "cell_type": "markdown",
   "id": "1fc48b07",
   "metadata": {},
   "source": [
    "# Imports and Setup"
   ]
  },
  {
   "cell_type": "code",
   "execution_count": null,
   "id": "36b5c712",
   "metadata": {},
   "outputs": [],
   "source": [
    "import instance_halos as ph"
   ]
  },
  {
   "cell_type": "code",
   "execution_count": null,
   "id": "9e07a85b",
   "metadata": {},
   "outputs": [],
   "source": [
    "%load_ext autoreload\n",
    "import os\n",
    "import numpy as np\n",
    "\n",
    "import instance_halos as ph\n",
    "\n",
    "import matplotlib as mpl\n",
    "from mpl_toolkits.axes_grid1 import make_axes_locatable\n",
    "from mpl_toolkits.axes_grid1.inset_locator import inset_axes\n",
    "%matplotlib inline\n",
    "# %matplotlib notebook\n",
    "%load_ext autoreload\n",
    "mpl.pyplot.style.use('default')\n",
    "mpl.pyplot.close('all')\n",
    "\n",
    "import logging\n",
    "logging.getLogger().setLevel(logging.INFO) # uncomment for some timing output\n",
    "# logging.getLogger().setLevel(logging.DEBUG) # uncomment for a lot of output\n",
    "\n",
    "ph.predictions.limit_tensorflow_GPU_memory(GPU_percent_mem_use=0.2)"
   ]
  },
  {
   "cell_type": "markdown",
   "id": "775a340f",
   "metadata": {},
   "source": [
    "# Load data"
   ]
  },
  {
   "cell_type": "code",
   "execution_count": null,
   "id": "6997e7bf",
   "metadata": {},
   "outputs": [],
   "source": [
    "data_path = \"../data/\"\n",
    "\n",
    "simulation_name = \"Planck13_N256_L50.0_output_seed1609\"\n",
    "\n",
    "delta = np.load(os.path.join(data_path, simulation_name, \"linear_density_field.npy\"))\n",
    "potential = np.load(os.path.join(data_path, simulation_name, \"linear_potential.npy\"))\n",
    "truth = np.load(os.path.join(data_path, simulation_name, \"FoF_halos_cut_155.npy\"))"
   ]
  },
  {
   "cell_type": "markdown",
   "id": "2fa6e4b1",
   "metadata": {},
   "source": [
    "### visualize data"
   ]
  },
  {
   "cell_type": "code",
   "execution_count": null,
   "id": "8ceaf653",
   "metadata": {
    "scrolled": false
   },
   "outputs": [],
   "source": [
    "fig = ph.utils.plot_loaded_fields(delta, potential, truth)"
   ]
  },
  {
   "cell_type": "markdown",
   "id": "c52e656b",
   "metadata": {},
   "source": [
    "# Panoptic predictions (Semantic & Instance)"
   ]
  },
  {
   "cell_type": "code",
   "execution_count": null,
   "id": "854b44b8",
   "metadata": {},
   "outputs": [],
   "source": [
    "semantic, instance = ph.predictions.panoptic_prediction(delta=delta, potential=potential)"
   ]
  },
  {
   "cell_type": "markdown",
   "id": "75c03485",
   "metadata": {},
   "source": [
    "# (Optional) Generate semantic and instance predictions separately"
   ]
  },
  {
   "cell_type": "markdown",
   "id": "55de4a6f",
   "metadata": {},
   "source": [
    "### Semantic predictions"
   ]
  },
  {
   "cell_type": "code",
   "execution_count": null,
   "id": "7782f430",
   "metadata": {},
   "outputs": [],
   "source": [
    "# semantic = ph.predictions.semantic_prediction(delta=delta, potential=potential)"
   ]
  },
  {
   "cell_type": "markdown",
   "id": "b65f71c8",
   "metadata": {},
   "source": [
    "### Instance predictions"
   ]
  },
  {
   "cell_type": "code",
   "execution_count": null,
   "id": "5ded567f",
   "metadata": {},
   "outputs": [],
   "source": [
    "# instance = ph.predictions.instance_prediction(semantic, delta=delta, potential=potential)"
   ]
  },
  {
   "cell_type": "markdown",
   "id": "521525f5",
   "metadata": {},
   "source": [
    "# Evaluate semantic model results"
   ]
  },
  {
   "cell_type": "markdown",
   "id": "9d250d2a",
   "metadata": {},
   "source": [
    "### Visualize semantic metrics as a function of the semantic threshold"
   ]
  },
  {
   "cell_type": "code",
   "execution_count": null,
   "id": "1396b67e",
   "metadata": {
    "scrolled": true
   },
   "outputs": [],
   "source": [
    "list_semantic_thresholds, semantic_metrics = ph.utils.semantic_predictions_metrics_vs_thresholds(\n",
    "    truth.flatten().astype(bool),\n",
    "    semantic.flatten()\n",
    ")"
   ]
  },
  {
   "cell_type": "code",
   "execution_count": null,
   "id": "699f6009",
   "metadata": {},
   "outputs": [],
   "source": [
    "fig, semantic_threshold = ph.utils.plot_semantic_metrics_vs_semantic_threshold(\n",
    "    list_semantic_thresholds,\n",
    "    semantic_metrics,\n",
    "    true_collapsed_fraction = np.sum(truth.flatten().astype(bool)) / len(truth.flatten().astype(bool))\n",
    ")"
   ]
  },
  {
   "cell_type": "markdown",
   "id": "dcf33869",
   "metadata": {},
   "source": [
    "### Visualize semantic predictions (map level)"
   ]
  },
  {
   "cell_type": "code",
   "execution_count": null,
   "id": "c812a239",
   "metadata": {
    "scrolled": false
   },
   "outputs": [],
   "source": [
    "fig = ph.utils.plot_semantic_map_predictions(\n",
    "    truth, semantic, semantic_threshold\n",
    ")"
   ]
  },
  {
   "cell_type": "markdown",
   "id": "981537e7",
   "metadata": {},
   "source": [
    "### Visualize evolution of TPR predicted by the semantic netwrok as a function of $\\log_{10}M_{\\mathrm{True}}\\; [\\mathrm{h}^{-1} M_\\odot]$"
   ]
  },
  {
   "cell_type": "code",
   "execution_count": null,
   "id": "272b91a2",
   "metadata": {},
   "outputs": [],
   "source": [
    "true_mass = ph.utils.compute_log10mass_map_from_label_map(truth)"
   ]
  },
  {
   "cell_type": "code",
   "execution_count": null,
   "id": "823d5388",
   "metadata": {},
   "outputs": [],
   "source": [
    "mass_bins, TPR_vs_true_mass = ph.utils.compute_TPR_vs_true_mass(true_mass, semantic, semantic_threshold)"
   ]
  },
  {
   "cell_type": "code",
   "execution_count": null,
   "id": "b72583b8",
   "metadata": {},
   "outputs": [],
   "source": [
    "fig = ph.utils.plot_TPR_vs_true_mass(mass_bins, TPR_vs_true_mass)"
   ]
  },
  {
   "cell_type": "markdown",
   "id": "b7a2296e",
   "metadata": {},
   "source": [
    "# Evaluate instance model results"
   ]
  },
  {
   "cell_type": "markdown",
   "id": "9143cef2",
   "metadata": {},
   "source": [
    "### Visualize instance predictions (mass map level)"
   ]
  },
  {
   "cell_type": "code",
   "execution_count": null,
   "id": "412f4b8b",
   "metadata": {},
   "outputs": [],
   "source": [
    "pred_mass = ph.utils.compute_log10mass_map_from_label_map(instance)"
   ]
  },
  {
   "cell_type": "code",
   "execution_count": null,
   "id": "9a16be2d",
   "metadata": {
    "scrolled": false
   },
   "outputs": [],
   "source": [
    "fig = ph.utils.plot_instance_mass_map_predictions(true_mass, pred_mass)"
   ]
  },
  {
   "cell_type": "markdown",
   "id": "aeb0957a",
   "metadata": {},
   "source": [
    "### Visualize violin plot"
   ]
  },
  {
   "cell_type": "code",
   "execution_count": null,
   "id": "d61ee55e",
   "metadata": {},
   "outputs": [],
   "source": [
    "true_array = true_mass.flatten()\n",
    "pred_array = pred_mass.flatten()\n",
    "\n",
    "fig = ph.utils.violin_plot(true_array, pred_array, N_bins=16)"
   ]
  },
  {
   "cell_type": "markdown",
   "id": "f6adb6ef",
   "metadata": {},
   "source": [
    "### Visualize HMF"
   ]
  },
  {
   "cell_type": "code",
   "execution_count": null,
   "id": "2d9bb407",
   "metadata": {},
   "outputs": [],
   "source": [
    "mp=6.350795014316703*1e8\n",
    "\n",
    "M_halos_true = np.bincount(truth.flatten()) * mp\n",
    "xx_true, yy_true = ph.utils.compute_HMF(M_halos_true, volume=50**3)\n",
    "\n",
    "M_halos_pred = np.bincount(instance.flatten()) * mp\n",
    "xx_pred, yy_pred = ph.utils.compute_HMF(M_halos_pred, volume=50**3)\n",
    "\n",
    "fig = ph.utils.plot_HMF(xx_true, yy_true, xx_pred, yy_pred)"
   ]
  },
  {
   "cell_type": "code",
   "execution_count": null,
   "id": "8795d191",
   "metadata": {},
   "outputs": [],
   "source": []
  }
 ],
 "metadata": {
  "kernelspec": {
   "display_name": "Python 3 (ipykernel)",
   "language": "python",
   "name": "python3"
  },
  "language_info": {
   "codemirror_mode": {
    "name": "ipython",
    "version": 3
   },
   "file_extension": ".py",
   "mimetype": "text/x-python",
   "name": "python",
   "nbconvert_exporter": "python",
   "pygments_lexer": "ipython3",
   "version": "3.8.18"
  }
 },
 "nbformat": 4,
 "nbformat_minor": 5
}
